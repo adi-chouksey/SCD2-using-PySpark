{
 "cells": [
  {
   "cell_type": "code",
   "execution_count": 0,
   "metadata": {
    "application/vnd.databricks.v1+cell": {
     "cellMetadata": {
      "byteLimit": 2048000,
      "implicitDf": true,
      "rowLimit": 10000
     },
     "inputWidgets": {},
     "nuid": "5104b9f1-1343-43fd-9020-93b5a8a6e202",
     "showTitle": false,
     "title": ""
    }
   },
   "outputs": [
    {
     "output_type": "display_data",
     "data": {
      "text/html": [
       "<style scoped>\n",
       "  .table-result-container {\n",
       "    max-height: 300px;\n",
       "    overflow: auto;\n",
       "  }\n",
       "  table, th, td {\n",
       "    border: 1px solid black;\n",
       "    border-collapse: collapse;\n",
       "  }\n",
       "  th, td {\n",
       "    padding: 5px;\n",
       "  }\n",
       "  th {\n",
       "    text-align: left;\n",
       "  }\n",
       "</style><div class='table-result-container'><table class='table-result'><thead style='background-color: white'><tr></tr></thead><tbody></tbody></table></div>"
      ]
     },
     "metadata": {
      "application/vnd.databricks.v1+output": {
       "addedWidgets": {},
       "aggData": [],
       "aggError": "",
       "aggOverflow": false,
       "aggSchema": [],
       "aggSeriesLimitReached": false,
       "aggType": "",
       "arguments": {},
       "columnCustomDisplayInfos": {},
       "data": [],
       "datasetInfos": [],
       "dbfsResultPath": null,
       "isJsonSchema": true,
       "metadata": {},
       "overflow": false,
       "plotOptions": {
        "customPlotOptions": {},
        "displayType": "table",
        "pivotAggregation": null,
        "pivotColumns": null,
        "xColumns": null,
        "yColumns": null
       },
       "removedWidgets": [],
       "schema": [],
       "type": "table"
      }
     },
     "output_type": "display_data"
    }
   ],
   "source": [
    "%sql\n",
    "create or replace table DimData(CID INT,\n",
    "                                FirstName string,\n",
    "                                LastName string,\n",
    "                                City string,\n",
    "                                ContactNo INT,\n",
    "                                isActive String,\n",
    "                                StartDate timestamp,\n",
    "                                Enddate timestamp)\n",
    "                                USING delta\n",
    "                                LOCATION '/FILESTORE/TABLES/SCD2DEMO'"
   ]
  },
  {
   "cell_type": "markdown",
   "metadata": {
    "application/vnd.databricks.v1+cell": {
     "cellMetadata": {},
     "inputWidgets": {},
     "nuid": "3b393707-a3e6-435a-b076-bc7e9571397a",
     "showTitle": false,
     "title": ""
    }
   },
   "source": [
    "**Existing data in dimension table in warehouse or you can say existing data in target table**\n",
    "\n",
    "\n",
    "| CID | FirstName |  LastName | City     | ContactNo | IsActive | StartDate | EndDate\n",
    "\n",
    "| 1   | Narendra  | Modi      |Ahmedabad | 412       |  Y       | XXXXX     | 9999-12-31\n",
    "\n",
    "| 2   | Rahul     | Gandhi    |Delhi     | 512       |  Y       | XXXXX     | 9999-12-31\n",
    "\n",
    "| 3   | AMit      | Shah      |Ahmedabad | 612       |  Y       | XXXXX     | 9999-12-31\n",
    "\n",
    "\n",
    "\n"
   ]
  },
  {
   "cell_type": "code",
   "execution_count": 0,
   "metadata": {
    "application/vnd.databricks.v1+cell": {
     "cellMetadata": {
      "byteLimit": 2048000,
      "implicitDf": true,
      "rowLimit": 10000
     },
     "inputWidgets": {},
     "nuid": "387b6071-b675-4400-a36e-6ff1d05ec853",
     "showTitle": false,
     "title": ""
    }
   },
   "outputs": [
    {
     "output_type": "display_data",
     "data": {
      "text/html": [
       "<style scoped>\n",
       "  .table-result-container {\n",
       "    max-height: 300px;\n",
       "    overflow: auto;\n",
       "  }\n",
       "  table, th, td {\n",
       "    border: 1px solid black;\n",
       "    border-collapse: collapse;\n",
       "  }\n",
       "  th, td {\n",
       "    padding: 5px;\n",
       "  }\n",
       "  th {\n",
       "    text-align: left;\n",
       "  }\n",
       "</style><div class='table-result-container'><table class='table-result'><thead style='background-color: white'><tr><th>num_affected_rows</th><th>num_inserted_rows</th></tr></thead><tbody><tr><td>1</td><td>1</td></tr></tbody></table></div>"
      ]
     },
     "metadata": {
      "application/vnd.databricks.v1+output": {
       "addedWidgets": {},
       "aggData": [],
       "aggError": "",
       "aggOverflow": false,
       "aggSchema": [],
       "aggSeriesLimitReached": false,
       "aggType": "",
       "arguments": {},
       "columnCustomDisplayInfos": {},
       "data": [
        [
         1,
         1
        ]
       ],
       "datasetInfos": [],
       "dbfsResultPath": null,
       "isJsonSchema": true,
       "metadata": {},
       "overflow": false,
       "plotOptions": {
        "customPlotOptions": {},
        "displayType": "table",
        "pivotAggregation": null,
        "pivotColumns": null,
        "xColumns": null,
        "yColumns": null
       },
       "removedWidgets": [],
       "schema": [
        {
         "metadata": "{}",
         "name": "num_affected_rows",
         "type": "\"long\""
        },
        {
         "metadata": "{}",
         "name": "num_inserted_rows",
         "type": "\"long\""
        }
       ],
       "type": "table"
      }
     },
     "output_type": "display_data"
    }
   ],
   "source": [
    "%sql\n",
    "insert into DimData values(1,'Narendra','Modi','Ahmedabad',412,'Y',current_timestamp(),'9999-12-31');\n",
    "insert into DimData values(2,'Rahul','Gandhi','Delhi',512,'Y',current_timestamp(),'9999-12-31');\n",
    "insert into DimData values(3,'Amit','Shah','Ahmedabad',612,'Y',current_timestamp(),'9999-12-31');\n",
    "\n"
   ]
  },
  {
   "cell_type": "code",
   "execution_count": 0,
   "metadata": {
    "application/vnd.databricks.v1+cell": {
     "cellMetadata": {
      "byteLimit": 2048000,
      "implicitDf": true,
      "rowLimit": 10000
     },
     "inputWidgets": {},
     "nuid": "0300da3f-0074-459b-9d5d-18725442bce0",
     "showTitle": false,
     "title": ""
    }
   },
   "outputs": [
    {
     "output_type": "display_data",
     "data": {
      "text/html": [
       "<style scoped>\n",
       "  .table-result-container {\n",
       "    max-height: 300px;\n",
       "    overflow: auto;\n",
       "  }\n",
       "  table, th, td {\n",
       "    border: 1px solid black;\n",
       "    border-collapse: collapse;\n",
       "  }\n",
       "  th, td {\n",
       "    padding: 5px;\n",
       "  }\n",
       "  th {\n",
       "    text-align: left;\n",
       "  }\n",
       "</style><div class='table-result-container'><table class='table-result'><thead style='background-color: white'><tr><th>CID</th><th>Firstname</th><th>LastName</th><th>City</th><th>ContactNo</th><th>isActive</th><th>StartDate</th><th>Enddate</th></tr></thead><tbody><tr><td>1</td><td>Narendra</td><td>Modi</td><td>Ahmedabad</td><td>412</td><td>Y</td><td>2023-09-19T21:52:01.884+0000</td><td>9999-12-31T00:00:00.000+0000</td></tr><tr><td>3</td><td>Amit</td><td>Shah</td><td>Ahmedabad</td><td>612</td><td>Y</td><td>2023-09-19T21:52:08.872+0000</td><td>9999-12-31T00:00:00.000+0000</td></tr><tr><td>2</td><td>Rahul</td><td>Gandhi</td><td>Delhi</td><td>512</td><td>Y</td><td>2023-09-19T21:52:05.702+0000</td><td>9999-12-31T00:00:00.000+0000</td></tr></tbody></table></div>"
      ]
     },
     "metadata": {
      "application/vnd.databricks.v1+output": {
       "addedWidgets": {},
       "aggData": [],
       "aggError": "",
       "aggOverflow": false,
       "aggSchema": [],
       "aggSeriesLimitReached": false,
       "aggType": "",
       "arguments": {},
       "columnCustomDisplayInfos": {},
       "data": [
        [
         1,
         "Narendra",
         "Modi",
         "Ahmedabad",
         412,
         "Y",
         "2023-09-19T21:52:01.884+0000",
         "9999-12-31T00:00:00.000+0000"
        ],
        [
         3,
         "Amit",
         "Shah",
         "Ahmedabad",
         612,
         "Y",
         "2023-09-19T21:52:08.872+0000",
         "9999-12-31T00:00:00.000+0000"
        ],
        [
         2,
         "Rahul",
         "Gandhi",
         "Delhi",
         512,
         "Y",
         "2023-09-19T21:52:05.702+0000",
         "9999-12-31T00:00:00.000+0000"
        ]
       ],
       "datasetInfos": [],
       "dbfsResultPath": null,
       "isJsonSchema": true,
       "metadata": {},
       "overflow": false,
       "plotOptions": {
        "customPlotOptions": {},
        "displayType": "table",
        "pivotAggregation": null,
        "pivotColumns": null,
        "xColumns": null,
        "yColumns": null
       },
       "removedWidgets": [],
       "schema": [
        {
         "metadata": "{}",
         "name": "CID",
         "type": "\"integer\""
        },
        {
         "metadata": "{}",
         "name": "Firstname",
         "type": "\"string\""
        },
        {
         "metadata": "{}",
         "name": "LastName",
         "type": "\"string\""
        },
        {
         "metadata": "{}",
         "name": "City",
         "type": "\"string\""
        },
        {
         "metadata": "{}",
         "name": "ContactNo",
         "type": "\"integer\""
        },
        {
         "metadata": "{}",
         "name": "isActive",
         "type": "\"string\""
        },
        {
         "metadata": "{}",
         "name": "StartDate",
         "type": "\"timestamp\""
        },
        {
         "metadata": "{}",
         "name": "Enddate",
         "type": "\"timestamp\""
        }
       ],
       "type": "table"
      }
     },
     "output_type": "display_data"
    }
   ],
   "source": [
    "%sql\n",
    "select * from DimData"
   ]
  },
  {
   "cell_type": "code",
   "execution_count": 0,
   "metadata": {
    "application/vnd.databricks.v1+cell": {
     "cellMetadata": {
      "byteLimit": 2048000,
      "rowLimit": 10000
     },
     "inputWidgets": {},
     "nuid": "d6524c99-e378-42e8-b24c-4db559bf783d",
     "showTitle": false,
     "title": ""
    }
   },
   "outputs": [],
   "source": [
    "#create a table instance named DimDataInstance so that it can be used in pyspark rather than using sql syntax \n",
    "from delta import *\n",
    "DimDataInstance=DeltaTable.forPath(spark,\"/FILESTORE/TABLES/SCD2DEMO\")\n"
   ]
  },
  {
   "cell_type": "code",
   "execution_count": 0,
   "metadata": {
    "application/vnd.databricks.v1+cell": {
     "cellMetadata": {
      "byteLimit": 2048000,
      "rowLimit": 10000
     },
     "inputWidgets": {},
     "nuid": "91bb0400-6fc1-4a10-9596-da4d78d788d4",
     "showTitle": false,
     "title": ""
    }
   },
   "outputs": [
    {
     "output_type": "display_data",
     "data": {
      "text/html": [
       "<style scoped>\n",
       "  .table-result-container {\n",
       "    max-height: 300px;\n",
       "    overflow: auto;\n",
       "  }\n",
       "  table, th, td {\n",
       "    border: 1px solid black;\n",
       "    border-collapse: collapse;\n",
       "  }\n",
       "  th, td {\n",
       "    padding: 5px;\n",
       "  }\n",
       "  th {\n",
       "    text-align: left;\n",
       "  }\n",
       "</style><div class='table-result-container'><table class='table-result'><thead style='background-color: white'><tr><th>CID</th><th>FirstName</th><th>LastName</th><th>City</th><th>ContactNo</th><th>isActive</th><th>StartDate</th><th>Enddate</th></tr></thead><tbody><tr><td>1</td><td>Narendra</td><td>Modi</td><td>Ahmedabad</td><td>412</td><td>Y</td><td>2023-09-19T22:40:23.335+0000</td><td>9999-12-31T00:00:00.000+0000</td></tr><tr><td>3</td><td>Amit</td><td>Shah</td><td>Ahmedabad</td><td>612</td><td>Y</td><td>2023-09-19T22:40:32.572+0000</td><td>9999-12-31T00:00:00.000+0000</td></tr><tr><td>2</td><td>Rahul</td><td>Gandhi</td><td>Delhi</td><td>512</td><td>Y</td><td>2023-09-19T22:40:28.802+0000</td><td>9999-12-31T00:00:00.000+0000</td></tr></tbody></table></div>"
      ]
     },
     "metadata": {
      "application/vnd.databricks.v1+output": {
       "addedWidgets": {},
       "aggData": [],
       "aggError": "",
       "aggOverflow": false,
       "aggSchema": [],
       "aggSeriesLimitReached": false,
       "aggType": "",
       "arguments": {},
       "columnCustomDisplayInfos": {},
       "data": [
        [
         1,
         "Narendra",
         "Modi",
         "Ahmedabad",
         412,
         "Y",
         "2023-09-19T22:40:23.335+0000",
         "9999-12-31T00:00:00.000+0000"
        ],
        [
         3,
         "Amit",
         "Shah",
         "Ahmedabad",
         612,
         "Y",
         "2023-09-19T22:40:32.572+0000",
         "9999-12-31T00:00:00.000+0000"
        ],
        [
         2,
         "Rahul",
         "Gandhi",
         "Delhi",
         512,
         "Y",
         "2023-09-19T22:40:28.802+0000",
         "9999-12-31T00:00:00.000+0000"
        ]
       ],
       "datasetInfos": [],
       "dbfsResultPath": null,
       "isJsonSchema": true,
       "metadata": {},
       "overflow": false,
       "plotOptions": {
        "customPlotOptions": {},
        "displayType": "table",
        "pivotAggregation": null,
        "pivotColumns": null,
        "xColumns": null,
        "yColumns": null
       },
       "removedWidgets": [],
       "schema": [
        {
         "metadata": "{}",
         "name": "CID",
         "type": "\"integer\""
        },
        {
         "metadata": "{}",
         "name": "FirstName",
         "type": "\"string\""
        },
        {
         "metadata": "{}",
         "name": "LastName",
         "type": "\"string\""
        },
        {
         "metadata": "{}",
         "name": "City",
         "type": "\"string\""
        },
        {
         "metadata": "{}",
         "name": "ContactNo",
         "type": "\"integer\""
        },
        {
         "metadata": "{}",
         "name": "isActive",
         "type": "\"string\""
        },
        {
         "metadata": "{}",
         "name": "StartDate",
         "type": "\"timestamp\""
        },
        {
         "metadata": "{}",
         "name": "Enddate",
         "type": "\"timestamp\""
        }
       ],
       "type": "table"
      }
     },
     "output_type": "display_data"
    }
   ],
   "source": [
    "#create a data frame using table instance\n",
    "TargetDF=DimDataInstance.toDF()\n",
    "display(TargetDF)"
   ]
  },
  {
   "cell_type": "code",
   "execution_count": 0,
   "metadata": {
    "application/vnd.databricks.v1+cell": {
     "cellMetadata": {
      "byteLimit": 2048000,
      "rowLimit": 10000
     },
     "inputWidgets": {},
     "nuid": "9d0d787c-0b62-45db-a7c4-64b90f742582",
     "showTitle": false,
     "title": ""
    }
   },
   "outputs": [],
   "source": [
    "#define a schema to be used for source dataframe\n",
    "from pyspark.sql.types import *\n",
    "from pyspark.sql.functions import *\n",
    "sourceschema=StructType([StructField(\"SourceCID\", StringType(), True),\\\n",
    "                    StructField(\"SourceFirstName\", StringType(), True),\\\n",
    "                    StructField(\"SourceLastName\", StringType(), True),\\\n",
    "                    StructField(\"SourceCity\", StringType(), True),\\\n",
    "                    StructField(\"SourceContactno\", IntegerType(), True)])"
   ]
  },
  {
   "cell_type": "code",
   "execution_count": 0,
   "metadata": {
    "application/vnd.databricks.v1+cell": {
     "cellMetadata": {
      "byteLimit": 2048000,
      "rowLimit": 10000
     },
     "inputWidgets": {},
     "nuid": "482610ba-de69-434f-a0ac-7318a7b19f1d",
     "showTitle": false,
     "title": ""
    }
   },
   "outputs": [
    {
     "output_type": "display_data",
     "data": {
      "text/html": [
       "<style scoped>\n",
       "  .table-result-container {\n",
       "    max-height: 300px;\n",
       "    overflow: auto;\n",
       "  }\n",
       "  table, th, td {\n",
       "    border: 1px solid black;\n",
       "    border-collapse: collapse;\n",
       "  }\n",
       "  th, td {\n",
       "    padding: 5px;\n",
       "  }\n",
       "  th {\n",
       "    text-align: left;\n",
       "  }\n",
       "</style><div class='table-result-container'><table class='table-result'><thead style='background-color: white'><tr><th>SourceCID</th><th>SourceFirstName</th><th>SourceLastName</th><th>SourceCity</th><th>SourceContactno</th></tr></thead><tbody><tr><td>1</td><td>Narendra</td><td>Modi</td><td>Delhi</td><td>412</td></tr><tr><td>2</td><td>Rahul</td><td>Gandhi</td><td>Delhi</td><td>512</td></tr><tr><td>4</td><td>Aditya</td><td>Nath</td><td>Lucknow</td><td>612</td></tr></tbody></table></div>"
      ]
     },
     "metadata": {
      "application/vnd.databricks.v1+output": {
       "addedWidgets": {},
       "aggData": [],
       "aggError": "",
       "aggOverflow": false,
       "aggSchema": [],
       "aggSeriesLimitReached": false,
       "aggType": "",
       "arguments": {},
       "columnCustomDisplayInfos": {},
       "data": [
        [
         "1",
         "Narendra",
         "Modi",
         "Delhi",
         412
        ],
        [
         "2",
         "Rahul",
         "Gandhi",
         "Delhi",
         512
        ],
        [
         "4",
         "Aditya",
         "Nath",
         "Lucknow",
         612
        ]
       ],
       "datasetInfos": [],
       "dbfsResultPath": null,
       "isJsonSchema": true,
       "metadata": {},
       "overflow": false,
       "plotOptions": {
        "customPlotOptions": {},
        "displayType": "table",
        "pivotAggregation": null,
        "pivotColumns": null,
        "xColumns": null,
        "yColumns": null
       },
       "removedWidgets": [],
       "schema": [
        {
         "metadata": "{}",
         "name": "SourceCID",
         "type": "\"string\""
        },
        {
         "metadata": "{}",
         "name": "SourceFirstName",
         "type": "\"string\""
        },
        {
         "metadata": "{}",
         "name": "SourceLastName",
         "type": "\"string\""
        },
        {
         "metadata": "{}",
         "name": "SourceCity",
         "type": "\"string\""
        },
        {
         "metadata": "{}",
         "name": "SourceContactno",
         "type": "\"integer\""
        }
       ],
       "type": "table"
      }
     },
     "output_type": "display_data"
    }
   ],
   "source": [
    "#give data for source table and use the schema created earlier to create source dataframe\n",
    "sourcedata=[(1,'Narendra','Modi','Delhi',412),#changed city\n",
    "(2,'Rahul','Gandhi','Delhi',512), # no change in this record\n",
    "(4,'Aditya','Nath','Lucknow',612)] #new record\n",
    "SourceDF=spark.createDataFrame(data=sourcedata,schema=sourceschema)\n",
    "display(SourceDF)"
   ]
  },
  {
   "cell_type": "code",
   "execution_count": 0,
   "metadata": {
    "application/vnd.databricks.v1+cell": {
     "cellMetadata": {
      "byteLimit": 2048000,
      "rowLimit": 10000
     },
     "inputWidgets": {},
     "nuid": "b8352b06-77ed-4e42-b695-7785dbfedb00",
     "showTitle": false,
     "title": ""
    }
   },
   "outputs": [
    {
     "output_type": "display_data",
     "data": {
      "text/html": [
       "<style scoped>\n",
       "  .table-result-container {\n",
       "    max-height: 300px;\n",
       "    overflow: auto;\n",
       "  }\n",
       "  table, th, td {\n",
       "    border: 1px solid black;\n",
       "    border-collapse: collapse;\n",
       "  }\n",
       "  th, td {\n",
       "    padding: 5px;\n",
       "  }\n",
       "  th {\n",
       "    text-align: left;\n",
       "  }\n",
       "</style><div class='table-result-container'><table class='table-result'><thead style='background-color: white'><tr><th>SourceCID</th><th>SourceFirstName</th><th>SourceLastName</th><th>SourceCity</th><th>SourceContactno</th><th>CID</th><th>FirstName</th><th>LastName</th><th>City</th><th>ContactNo</th><th>isActive</th><th>StartDate</th><th>Enddate</th></tr></thead><tbody><tr><td>1</td><td>Narendra</td><td>Modi</td><td>Delhi</td><td>412</td><td>1</td><td>Narendra</td><td>Modi</td><td>Ahmedabad</td><td>412</td><td>Y</td><td>2023-09-19T22:40:23.335+0000</td><td>9999-12-31T00:00:00.000+0000</td></tr><tr><td>2</td><td>Rahul</td><td>Gandhi</td><td>Delhi</td><td>512</td><td>2</td><td>Rahul</td><td>Gandhi</td><td>Delhi</td><td>512</td><td>Y</td><td>2023-09-19T22:40:28.802+0000</td><td>9999-12-31T00:00:00.000+0000</td></tr><tr><td>null</td><td>null</td><td>null</td><td>null</td><td>null</td><td>3</td><td>Amit</td><td>Shah</td><td>Ahmedabad</td><td>612</td><td>Y</td><td>2023-09-19T22:40:32.572+0000</td><td>9999-12-31T00:00:00.000+0000</td></tr><tr><td>4</td><td>Aditya</td><td>Nath</td><td>Lucknow</td><td>612</td><td>null</td><td>null</td><td>null</td><td>null</td><td>null</td><td>null</td><td>null</td><td>null</td></tr></tbody></table></div>"
      ]
     },
     "metadata": {
      "application/vnd.databricks.v1+output": {
       "addedWidgets": {},
       "aggData": [],
       "aggError": "",
       "aggOverflow": false,
       "aggSchema": [],
       "aggSeriesLimitReached": false,
       "aggType": "",
       "arguments": {},
       "columnCustomDisplayInfos": {},
       "data": [
        [
         "1",
         "Narendra",
         "Modi",
         "Delhi",
         412,
         1,
         "Narendra",
         "Modi",
         "Ahmedabad",
         412,
         "Y",
         "2023-09-19T22:40:23.335+0000",
         "9999-12-31T00:00:00.000+0000"
        ],
        [
         "2",
         "Rahul",
         "Gandhi",
         "Delhi",
         512,
         2,
         "Rahul",
         "Gandhi",
         "Delhi",
         512,
         "Y",
         "2023-09-19T22:40:28.802+0000",
         "9999-12-31T00:00:00.000+0000"
        ],
        [
         null,
         null,
         null,
         null,
         null,
         3,
         "Amit",
         "Shah",
         "Ahmedabad",
         612,
         "Y",
         "2023-09-19T22:40:32.572+0000",
         "9999-12-31T00:00:00.000+0000"
        ],
        [
         "4",
         "Aditya",
         "Nath",
         "Lucknow",
         612,
         null,
         null,
         null,
         null,
         null,
         null,
         null,
         null
        ]
       ],
       "datasetInfos": [],
       "dbfsResultPath": null,
       "isJsonSchema": true,
       "metadata": {},
       "overflow": false,
       "plotOptions": {
        "customPlotOptions": {},
        "displayType": "table",
        "pivotAggregation": null,
        "pivotColumns": null,
        "xColumns": null,
        "yColumns": null
       },
       "removedWidgets": [],
       "schema": [
        {
         "metadata": "{}",
         "name": "SourceCID",
         "type": "\"string\""
        },
        {
         "metadata": "{}",
         "name": "SourceFirstName",
         "type": "\"string\""
        },
        {
         "metadata": "{}",
         "name": "SourceLastName",
         "type": "\"string\""
        },
        {
         "metadata": "{}",
         "name": "SourceCity",
         "type": "\"string\""
        },
        {
         "metadata": "{}",
         "name": "SourceContactno",
         "type": "\"integer\""
        },
        {
         "metadata": "{}",
         "name": "CID",
         "type": "\"integer\""
        },
        {
         "metadata": "{}",
         "name": "FirstName",
         "type": "\"string\""
        },
        {
         "metadata": "{}",
         "name": "LastName",
         "type": "\"string\""
        },
        {
         "metadata": "{}",
         "name": "City",
         "type": "\"string\""
        },
        {
         "metadata": "{}",
         "name": "ContactNo",
         "type": "\"integer\""
        },
        {
         "metadata": "{}",
         "name": "isActive",
         "type": "\"string\""
        },
        {
         "metadata": "{}",
         "name": "StartDate",
         "type": "\"timestamp\""
        },
        {
         "metadata": "{}",
         "name": "Enddate",
         "type": "\"timestamp\""
        }
       ],
       "type": "table"
      }
     },
     "output_type": "display_data"
    },
    {
     "output_type": "display_data",
     "data": {
      "text/html": [
       "<style scoped>\n",
       "  .table-result-container {\n",
       "    max-height: 300px;\n",
       "    overflow: auto;\n",
       "  }\n",
       "  table, th, td {\n",
       "    border: 1px solid black;\n",
       "    border-collapse: collapse;\n",
       "  }\n",
       "  th, td {\n",
       "    padding: 5px;\n",
       "  }\n",
       "  th {\n",
       "    text-align: left;\n",
       "  }\n",
       "</style><div class='table-result-container'><table class='table-result'><thead style='background-color: white'><tr><th>SourceCID</th><th>SourceFirstName</th><th>SourceLastName</th><th>SourceCity</th><th>SourceContactno</th><th>CID</th><th>FirstName</th><th>LastName</th><th>City</th><th>ContactNo</th><th>isActive</th><th>StartDate</th><th>Enddate</th></tr></thead><tbody><tr><td>1</td><td>Narendra</td><td>Modi</td><td>Delhi</td><td>412</td><td>1</td><td>Narendra</td><td>Modi</td><td>Ahmedabad</td><td>412</td><td>Y</td><td>2023-09-19T22:40:23.335+0000</td><td>9999-12-31T00:00:00.000+0000</td></tr><tr><td>null</td><td>null</td><td>null</td><td>null</td><td>null</td><td>3</td><td>Amit</td><td>Shah</td><td>Ahmedabad</td><td>612</td><td>Y</td><td>2023-09-19T22:40:32.572+0000</td><td>9999-12-31T00:00:00.000+0000</td></tr><tr><td>4</td><td>Aditya</td><td>Nath</td><td>Lucknow</td><td>612</td><td>null</td><td>null</td><td>null</td><td>null</td><td>null</td><td>null</td><td>null</td><td>null</td></tr></tbody></table></div>"
      ]
     },
     "metadata": {
      "application/vnd.databricks.v1+output": {
       "addedWidgets": {},
       "aggData": [],
       "aggError": "",
       "aggOverflow": false,
       "aggSchema": [],
       "aggSeriesLimitReached": false,
       "aggType": "",
       "arguments": {},
       "columnCustomDisplayInfos": {},
       "data": [
        [
         "1",
         "Narendra",
         "Modi",
         "Delhi",
         412,
         1,
         "Narendra",
         "Modi",
         "Ahmedabad",
         412,
         "Y",
         "2023-09-19T22:40:23.335+0000",
         "9999-12-31T00:00:00.000+0000"
        ],
        [
         null,
         null,
         null,
         null,
         null,
         3,
         "Amit",
         "Shah",
         "Ahmedabad",
         612,
         "Y",
         "2023-09-19T22:40:32.572+0000",
         "9999-12-31T00:00:00.000+0000"
        ],
        [
         "4",
         "Aditya",
         "Nath",
         "Lucknow",
         612,
         null,
         null,
         null,
         null,
         null,
         null,
         null,
         null
        ]
       ],
       "datasetInfos": [],
       "dbfsResultPath": null,
       "isJsonSchema": true,
       "metadata": {},
       "overflow": false,
       "plotOptions": {
        "customPlotOptions": {},
        "displayType": "table",
        "pivotAggregation": null,
        "pivotColumns": null,
        "xColumns": null,
        "yColumns": null
       },
       "removedWidgets": [],
       "schema": [
        {
         "metadata": "{}",
         "name": "SourceCID",
         "type": "\"string\""
        },
        {
         "metadata": "{}",
         "name": "SourceFirstName",
         "type": "\"string\""
        },
        {
         "metadata": "{}",
         "name": "SourceLastName",
         "type": "\"string\""
        },
        {
         "metadata": "{}",
         "name": "SourceCity",
         "type": "\"string\""
        },
        {
         "metadata": "{}",
         "name": "SourceContactno",
         "type": "\"integer\""
        },
        {
         "metadata": "{}",
         "name": "CID",
         "type": "\"integer\""
        },
        {
         "metadata": "{}",
         "name": "FirstName",
         "type": "\"string\""
        },
        {
         "metadata": "{}",
         "name": "LastName",
         "type": "\"string\""
        },
        {
         "metadata": "{}",
         "name": "City",
         "type": "\"string\""
        },
        {
         "metadata": "{}",
         "name": "ContactNo",
         "type": "\"integer\""
        },
        {
         "metadata": "{}",
         "name": "isActive",
         "type": "\"string\""
        },
        {
         "metadata": "{}",
         "name": "StartDate",
         "type": "\"timestamp\""
        },
        {
         "metadata": "{}",
         "name": "Enddate",
         "type": "\"timestamp\""
        }
       ],
       "type": "table"
      }
     },
     "output_type": "display_data"
    }
   ],
   "source": [
    "#now we have SourceDF with 1 updated, 1 deleted and 1 new record and TargetDF which is to be updated (upsert). Please note TargetDF is pointing to a table instance and hence update to that data frame will be reflected in underlyfing table named DimData\n",
    "\n",
    "JoinDF = SourceDF.join(TargetDF,(SourceDF.SourceCID==TargetDF.CID) &\\\n",
    "                        (TargetDF.isActive==\"Y\"),\"fullouter\")\\\n",
    "                        .select(SourceDF[\"*\"],\\\n",
    "                            TargetDF[\"*\"])\n",
    "display(JoinDF)\n",
    "\n",
    "FilterDF=JoinDF.filter(xxhash64(JoinDF.SourceFirstName,JoinDF.SourceLastName,JoinDF.SourceCity)!=\n",
    "                       xxhash64(JoinDF.FirstName,JoinDF.LastName,JoinDF.City))\n",
    "\n",
    "display(FilterDF)\n"
   ]
  },
  {
   "cell_type": "code",
   "execution_count": 0,
   "metadata": {
    "application/vnd.databricks.v1+cell": {
     "cellMetadata": {
      "byteLimit": 2048000,
      "rowLimit": 10000
     },
     "inputWidgets": {},
     "nuid": "0a045817-dd5a-41c6-abfe-7bf93e538ebb",
     "showTitle": false,
     "title": ""
    }
   },
   "outputs": [
    {
     "output_type": "display_data",
     "data": {
      "text/html": [
       "<style scoped>\n",
       "  .table-result-container {\n",
       "    max-height: 300px;\n",
       "    overflow: auto;\n",
       "  }\n",
       "  table, th, td {\n",
       "    border: 1px solid black;\n",
       "    border-collapse: collapse;\n",
       "  }\n",
       "  th, td {\n",
       "    padding: 5px;\n",
       "  }\n",
       "  th {\n",
       "    text-align: left;\n",
       "  }\n",
       "</style><div class='table-result-container'><table class='table-result'><thead style='background-color: white'><tr><th>SourceCID</th><th>SourceFirstName</th><th>SourceLastName</th><th>SourceCity</th><th>SourceContactno</th><th>CID</th><th>FirstName</th><th>LastName</th><th>City</th><th>ContactNo</th><th>isActive</th><th>StartDate</th><th>Enddate</th><th>MergeKey</th></tr></thead><tbody><tr><td>1</td><td>Narendra</td><td>Modi</td><td>Delhi</td><td>412</td><td>1</td><td>Narendra</td><td>Modi</td><td>Ahmedabad</td><td>412</td><td>Y</td><td>2023-09-19T22:40:23.335+0000</td><td>9999-12-31T00:00:00.000+0000</td><td>1</td></tr><tr><td>null</td><td>null</td><td>null</td><td>null</td><td>null</td><td>3</td><td>Amit</td><td>Shah</td><td>Ahmedabad</td><td>612</td><td>Y</td><td>2023-09-19T22:40:32.572+0000</td><td>9999-12-31T00:00:00.000+0000</td><td>3</td></tr><tr><td>4</td><td>Aditya</td><td>Nath</td><td>Lucknow</td><td>612</td><td>null</td><td>null</td><td>null</td><td>null</td><td>null</td><td>null</td><td>null</td><td>null</td><td>null</td></tr></tbody></table></div>"
      ]
     },
     "metadata": {
      "application/vnd.databricks.v1+output": {
       "addedWidgets": {},
       "aggData": [],
       "aggError": "",
       "aggOverflow": false,
       "aggSchema": [],
       "aggSeriesLimitReached": false,
       "aggType": "",
       "arguments": {},
       "columnCustomDisplayInfos": {},
       "data": [
        [
         "1",
         "Narendra",
         "Modi",
         "Delhi",
         412,
         1,
         "Narendra",
         "Modi",
         "Ahmedabad",
         412,
         "Y",
         "2023-09-19T22:40:23.335+0000",
         "9999-12-31T00:00:00.000+0000",
         1
        ],
        [
         null,
         null,
         null,
         null,
         null,
         3,
         "Amit",
         "Shah",
         "Ahmedabad",
         612,
         "Y",
         "2023-09-19T22:40:32.572+0000",
         "9999-12-31T00:00:00.000+0000",
         3
        ],
        [
         "4",
         "Aditya",
         "Nath",
         "Lucknow",
         612,
         null,
         null,
         null,
         null,
         null,
         null,
         null,
         null,
         null
        ]
       ],
       "datasetInfos": [],
       "dbfsResultPath": null,
       "isJsonSchema": true,
       "metadata": {},
       "overflow": false,
       "plotOptions": {
        "customPlotOptions": {},
        "displayType": "table",
        "pivotAggregation": null,
        "pivotColumns": null,
        "xColumns": null,
        "yColumns": null
       },
       "removedWidgets": [],
       "schema": [
        {
         "metadata": "{}",
         "name": "SourceCID",
         "type": "\"string\""
        },
        {
         "metadata": "{}",
         "name": "SourceFirstName",
         "type": "\"string\""
        },
        {
         "metadata": "{}",
         "name": "SourceLastName",
         "type": "\"string\""
        },
        {
         "metadata": "{}",
         "name": "SourceCity",
         "type": "\"string\""
        },
        {
         "metadata": "{}",
         "name": "SourceContactno",
         "type": "\"integer\""
        },
        {
         "metadata": "{}",
         "name": "CID",
         "type": "\"integer\""
        },
        {
         "metadata": "{}",
         "name": "FirstName",
         "type": "\"string\""
        },
        {
         "metadata": "{}",
         "name": "LastName",
         "type": "\"string\""
        },
        {
         "metadata": "{}",
         "name": "City",
         "type": "\"string\""
        },
        {
         "metadata": "{}",
         "name": "ContactNo",
         "type": "\"integer\""
        },
        {
         "metadata": "{}",
         "name": "isActive",
         "type": "\"string\""
        },
        {
         "metadata": "{}",
         "name": "StartDate",
         "type": "\"timestamp\""
        },
        {
         "metadata": "{}",
         "name": "Enddate",
         "type": "\"timestamp\""
        },
        {
         "metadata": "{}",
         "name": "MergeKey",
         "type": "\"integer\""
        }
       ],
       "type": "table"
      }
     },
     "output_type": "display_data"
    }
   ],
   "source": [
    "#source CID null means deleted record\n",
    "#target CID null means new record\n",
    "\n",
    "\n",
    "#add a column named MergeKey and assign TargetCID to it\n",
    "MergeDF=FilterDF.withColumn(\"MergeKey\",FilterDF.CID)\n",
    "display(MergeDF)\n",
    "\n"
   ]
  },
  {
   "cell_type": "code",
   "execution_count": 0,
   "metadata": {
    "application/vnd.databricks.v1+cell": {
     "cellMetadata": {
      "byteLimit": 2048000,
      "rowLimit": 10000
     },
     "inputWidgets": {},
     "nuid": "c5b230b6-ba8c-49f6-9a95-dcaaf9308d68",
     "showTitle": false,
     "title": ""
    }
   },
   "outputs": [
    {
     "output_type": "display_data",
     "data": {
      "text/html": [
       "<style scoped>\n",
       "  .table-result-container {\n",
       "    max-height: 300px;\n",
       "    overflow: auto;\n",
       "  }\n",
       "  table, th, td {\n",
       "    border: 1px solid black;\n",
       "    border-collapse: collapse;\n",
       "  }\n",
       "  th, td {\n",
       "    padding: 5px;\n",
       "  }\n",
       "  th {\n",
       "    text-align: left;\n",
       "  }\n",
       "</style><div class='table-result-container'><table class='table-result'><thead style='background-color: white'><tr><th>SourceCID</th><th>SourceFirstName</th><th>SourceLastName</th><th>SourceCity</th><th>SourceContactno</th><th>CID</th><th>FirstName</th><th>LastName</th><th>City</th><th>ContactNo</th><th>isActive</th><th>StartDate</th><th>Enddate</th><th>MergeKey</th></tr></thead><tbody><tr><td>1</td><td>Narendra</td><td>Modi</td><td>Delhi</td><td>412</td><td>1</td><td>Narendra</td><td>Modi</td><td>Ahmedabad</td><td>412</td><td>Y</td><td>2023-09-19T22:40:23.335+0000</td><td>9999-12-31T00:00:00.000+0000</td><td>null</td></tr></tbody></table></div>"
      ]
     },
     "metadata": {
      "application/vnd.databricks.v1+output": {
       "addedWidgets": {},
       "aggData": [],
       "aggError": "",
       "aggOverflow": false,
       "aggSchema": [],
       "aggSeriesLimitReached": false,
       "aggType": "",
       "arguments": {},
       "columnCustomDisplayInfos": {},
       "data": [
        [
         "1",
         "Narendra",
         "Modi",
         "Delhi",
         412,
         1,
         "Narendra",
         "Modi",
         "Ahmedabad",
         412,
         "Y",
         "2023-09-19T22:40:23.335+0000",
         "9999-12-31T00:00:00.000+0000",
         null
        ]
       ],
       "datasetInfos": [],
       "dbfsResultPath": null,
       "isJsonSchema": true,
       "metadata": {},
       "overflow": false,
       "plotOptions": {
        "customPlotOptions": {},
        "displayType": "table",
        "pivotAggregation": null,
        "pivotColumns": null,
        "xColumns": null,
        "yColumns": null
       },
       "removedWidgets": [],
       "schema": [
        {
         "metadata": "{}",
         "name": "SourceCID",
         "type": "\"string\""
        },
        {
         "metadata": "{}",
         "name": "SourceFirstName",
         "type": "\"string\""
        },
        {
         "metadata": "{}",
         "name": "SourceLastName",
         "type": "\"string\""
        },
        {
         "metadata": "{}",
         "name": "SourceCity",
         "type": "\"string\""
        },
        {
         "metadata": "{}",
         "name": "SourceContactno",
         "type": "\"integer\""
        },
        {
         "metadata": "{}",
         "name": "CID",
         "type": "\"integer\""
        },
        {
         "metadata": "{}",
         "name": "FirstName",
         "type": "\"string\""
        },
        {
         "metadata": "{}",
         "name": "LastName",
         "type": "\"string\""
        },
        {
         "metadata": "{}",
         "name": "City",
         "type": "\"string\""
        },
        {
         "metadata": "{}",
         "name": "ContactNo",
         "type": "\"integer\""
        },
        {
         "metadata": "{}",
         "name": "isActive",
         "type": "\"string\""
        },
        {
         "metadata": "{}",
         "name": "StartDate",
         "type": "\"timestamp\""
        },
        {
         "metadata": "{}",
         "name": "Enddate",
         "type": "\"timestamp\""
        },
        {
         "metadata": "{}",
         "name": "MergeKey",
         "type": "\"void\""
        }
       ],
       "type": "table"
      }
     },
     "output_type": "display_data"
    }
   ],
   "source": [
    "#when matched, existing record with same CID willbe updated(made inactive and end date). So in order to handle the changed record, we need to close old record but also need to insert new record. Hence we need 2 copies of that record. In our case its CID=1 which needs to be first updated and then inserted for new active record.\n",
    "\n",
    "#create a dummy record for all the CHANGED records. Changed records are those which has source CID and target CID as well. \n",
    "#make mergekey as null for this dummy record\n",
    "DummyDF=FilterDF.filter(FilterDF.SourceCID.isNotNull()&FilterDF.CID.isNotNull()).withColumn(\"MergeKey\",lit(None))\n",
    "display(DummyDF)"
   ]
  },
  {
   "cell_type": "code",
   "execution_count": 0,
   "metadata": {
    "application/vnd.databricks.v1+cell": {
     "cellMetadata": {
      "byteLimit": 2048000,
      "rowLimit": 10000
     },
     "inputWidgets": {},
     "nuid": "3c87f18f-1b9c-495d-8057-f967fb08ea45",
     "showTitle": false,
     "title": ""
    }
   },
   "outputs": [
    {
     "output_type": "display_data",
     "data": {
      "text/html": [
       "<style scoped>\n",
       "  .table-result-container {\n",
       "    max-height: 300px;\n",
       "    overflow: auto;\n",
       "  }\n",
       "  table, th, td {\n",
       "    border: 1px solid black;\n",
       "    border-collapse: collapse;\n",
       "  }\n",
       "  th, td {\n",
       "    padding: 5px;\n",
       "  }\n",
       "  th {\n",
       "    text-align: left;\n",
       "  }\n",
       "</style><div class='table-result-container'><table class='table-result'><thead style='background-color: white'><tr><th>SourceCID</th><th>SourceFirstName</th><th>SourceLastName</th><th>SourceCity</th><th>SourceContactno</th><th>CID</th><th>FirstName</th><th>LastName</th><th>City</th><th>ContactNo</th><th>isActive</th><th>StartDate</th><th>Enddate</th><th>MergeKey</th></tr></thead><tbody><tr><td>1</td><td>Narendra</td><td>Modi</td><td>Delhi</td><td>412</td><td>1</td><td>Narendra</td><td>Modi</td><td>Ahmedabad</td><td>412</td><td>Y</td><td>2023-09-19T22:40:23.335+0000</td><td>9999-12-31T00:00:00.000+0000</td><td>1</td></tr><tr><td>null</td><td>null</td><td>null</td><td>null</td><td>null</td><td>3</td><td>Amit</td><td>Shah</td><td>Ahmedabad</td><td>612</td><td>Y</td><td>2023-09-19T22:40:32.572+0000</td><td>9999-12-31T00:00:00.000+0000</td><td>3</td></tr><tr><td>4</td><td>Aditya</td><td>Nath</td><td>Lucknow</td><td>612</td><td>null</td><td>null</td><td>null</td><td>null</td><td>null</td><td>null</td><td>null</td><td>null</td><td>null</td></tr><tr><td>1</td><td>Narendra</td><td>Modi</td><td>Delhi</td><td>412</td><td>1</td><td>Narendra</td><td>Modi</td><td>Ahmedabad</td><td>412</td><td>Y</td><td>2023-09-19T22:40:23.335+0000</td><td>9999-12-31T00:00:00.000+0000</td><td>null</td></tr></tbody></table></div>"
      ]
     },
     "metadata": {
      "application/vnd.databricks.v1+output": {
       "addedWidgets": {},
       "aggData": [],
       "aggError": "",
       "aggOverflow": false,
       "aggSchema": [],
       "aggSeriesLimitReached": false,
       "aggType": "",
       "arguments": {},
       "columnCustomDisplayInfos": {},
       "data": [
        [
         "1",
         "Narendra",
         "Modi",
         "Delhi",
         412,
         1,
         "Narendra",
         "Modi",
         "Ahmedabad",
         412,
         "Y",
         "2023-09-19T22:40:23.335+0000",
         "9999-12-31T00:00:00.000+0000",
         1
        ],
        [
         null,
         null,
         null,
         null,
         null,
         3,
         "Amit",
         "Shah",
         "Ahmedabad",
         612,
         "Y",
         "2023-09-19T22:40:32.572+0000",
         "9999-12-31T00:00:00.000+0000",
         3
        ],
        [
         "4",
         "Aditya",
         "Nath",
         "Lucknow",
         612,
         null,
         null,
         null,
         null,
         null,
         null,
         null,
         null,
         null
        ],
        [
         "1",
         "Narendra",
         "Modi",
         "Delhi",
         412,
         1,
         "Narendra",
         "Modi",
         "Ahmedabad",
         412,
         "Y",
         "2023-09-19T22:40:23.335+0000",
         "9999-12-31T00:00:00.000+0000",
         null
        ]
       ],
       "datasetInfos": [],
       "dbfsResultPath": null,
       "isJsonSchema": true,
       "metadata": {},
       "overflow": false,
       "plotOptions": {
        "customPlotOptions": {},
        "displayType": "table",
        "pivotAggregation": null,
        "pivotColumns": null,
        "xColumns": null,
        "yColumns": null
       },
       "removedWidgets": [],
       "schema": [
        {
         "metadata": "{}",
         "name": "SourceCID",
         "type": "\"string\""
        },
        {
         "metadata": "{}",
         "name": "SourceFirstName",
         "type": "\"string\""
        },
        {
         "metadata": "{}",
         "name": "SourceLastName",
         "type": "\"string\""
        },
        {
         "metadata": "{}",
         "name": "SourceCity",
         "type": "\"string\""
        },
        {
         "metadata": "{}",
         "name": "SourceContactno",
         "type": "\"integer\""
        },
        {
         "metadata": "{}",
         "name": "CID",
         "type": "\"integer\""
        },
        {
         "metadata": "{}",
         "name": "FirstName",
         "type": "\"string\""
        },
        {
         "metadata": "{}",
         "name": "LastName",
         "type": "\"string\""
        },
        {
         "metadata": "{}",
         "name": "City",
         "type": "\"string\""
        },
        {
         "metadata": "{}",
         "name": "ContactNo",
         "type": "\"integer\""
        },
        {
         "metadata": "{}",
         "name": "isActive",
         "type": "\"string\""
        },
        {
         "metadata": "{}",
         "name": "StartDate",
         "type": "\"timestamp\""
        },
        {
         "metadata": "{}",
         "name": "Enddate",
         "type": "\"timestamp\""
        },
        {
         "metadata": "{}",
         "name": "MergeKey",
         "type": "\"integer\""
        }
       ],
       "type": "table"
      }
     },
     "output_type": "display_data"
    }
   ],
   "source": [
    "#now make a union of old data frame and this dummy record to make final data frame which will be used as source dataframe for upsert\n",
    "\n",
    "ScdDF=MergeDF.union(DummyDF)\n",
    "display(ScdDF)"
   ]
  },
  {
   "cell_type": "code",
   "execution_count": 0,
   "metadata": {
    "application/vnd.databricks.v1+cell": {
     "cellMetadata": {
      "byteLimit": 2048000,
      "rowLimit": 10000
     },
     "inputWidgets": {},
     "nuid": "e1733f05-c44f-42c5-b2ed-c10aca2d6202",
     "showTitle": false,
     "title": ""
    }
   },
   "outputs": [],
   "source": [
    "DimDataInstance.alias(\"target\").merge(\n",
    "    source= ScdDF.alias(\"source\"), \n",
    "    condition=\"target.CID=source.MergeKey and target.isActive='Y'\"\n",
    "). whenMatchedUpdate (set=\n",
    "                      {\n",
    "                          \"isActive\":\"'N'\",\n",
    "                          \"EndDate\": \"current_date\"\n",
    "                          \n",
    "                      }\n",
    ").whenNotMatchedInsert(values=\n",
    "                       {\"CID\":\"source.SourceCID\",\n",
    "                        \"FirstName\":\"source.SourceFirstName\",\n",
    "                        \"LastName\":\"source.SourceLastName\",\n",
    "                        \"City\":\"source.SourceCity\",\n",
    "                        \"ContactNo\":\"source.SourceContactNo\",\n",
    "                        \"isActive\":\"'Y'\",\n",
    "                        \"StartDate\":\"current_date\",\n",
    "                        \"EndDate\":\"\"\"to_date('9999-12-31','yyyy-MM-dd')\"\"\"\n",
    "\n",
    "}\n",
    "                       ).execute()\n"
   ]
  },
  {
   "cell_type": "code",
   "execution_count": 0,
   "metadata": {
    "application/vnd.databricks.v1+cell": {
     "cellMetadata": {
      "byteLimit": 2048000,
      "implicitDf": true,
      "rowLimit": 10000
     },
     "inputWidgets": {},
     "nuid": "903d6641-e196-4e50-85a7-badeebb4120d",
     "showTitle": false,
     "title": ""
    }
   },
   "outputs": [
    {
     "output_type": "display_data",
     "data": {
      "text/html": [
       "<style scoped>\n",
       "  .table-result-container {\n",
       "    max-height: 300px;\n",
       "    overflow: auto;\n",
       "  }\n",
       "  table, th, td {\n",
       "    border: 1px solid black;\n",
       "    border-collapse: collapse;\n",
       "  }\n",
       "  th, td {\n",
       "    padding: 5px;\n",
       "  }\n",
       "  th {\n",
       "    text-align: left;\n",
       "  }\n",
       "</style><div class='table-result-container'><table class='table-result'><thead style='background-color: white'><tr><th>CID</th><th>FirstName</th><th>LastName</th><th>City</th><th>ContactNo</th><th>isActive</th><th>StartDate</th><th>Enddate</th></tr></thead><tbody><tr><td>1</td><td>Narendra</td><td>Modi</td><td>Ahmedabad</td><td>412</td><td>N</td><td>2023-09-19T22:40:23.335+0000</td><td>2023-09-19T00:00:00.000+0000</td></tr><tr><td>3</td><td>Amit</td><td>Shah</td><td>Ahmedabad</td><td>612</td><td>N</td><td>2023-09-19T22:40:32.572+0000</td><td>2023-09-19T00:00:00.000+0000</td></tr><tr><td>4</td><td>Aditya</td><td>Nath</td><td>Lucknow</td><td>612</td><td>Y</td><td>2023-09-19T00:00:00.000+0000</td><td>9999-12-31T00:00:00.000+0000</td></tr><tr><td>1</td><td>Narendra</td><td>Modi</td><td>Delhi</td><td>412</td><td>Y</td><td>2023-09-19T00:00:00.000+0000</td><td>9999-12-31T00:00:00.000+0000</td></tr><tr><td>2</td><td>Rahul</td><td>Gandhi</td><td>Delhi</td><td>512</td><td>Y</td><td>2023-09-19T22:40:28.802+0000</td><td>9999-12-31T00:00:00.000+0000</td></tr></tbody></table></div>"
      ]
     },
     "metadata": {
      "application/vnd.databricks.v1+output": {
       "addedWidgets": {},
       "aggData": [],
       "aggError": "",
       "aggOverflow": false,
       "aggSchema": [],
       "aggSeriesLimitReached": false,
       "aggType": "",
       "arguments": {},
       "columnCustomDisplayInfos": {},
       "data": [
        [
         1,
         "Narendra",
         "Modi",
         "Ahmedabad",
         412,
         "N",
         "2023-09-19T22:40:23.335+0000",
         "2023-09-19T00:00:00.000+0000"
        ],
        [
         3,
         "Amit",
         "Shah",
         "Ahmedabad",
         612,
         "N",
         "2023-09-19T22:40:32.572+0000",
         "2023-09-19T00:00:00.000+0000"
        ],
        [
         4,
         "Aditya",
         "Nath",
         "Lucknow",
         612,
         "Y",
         "2023-09-19T00:00:00.000+0000",
         "9999-12-31T00:00:00.000+0000"
        ],
        [
         1,
         "Narendra",
         "Modi",
         "Delhi",
         412,
         "Y",
         "2023-09-19T00:00:00.000+0000",
         "9999-12-31T00:00:00.000+0000"
        ],
        [
         2,
         "Rahul",
         "Gandhi",
         "Delhi",
         512,
         "Y",
         "2023-09-19T22:40:28.802+0000",
         "9999-12-31T00:00:00.000+0000"
        ]
       ],
       "datasetInfos": [],
       "dbfsResultPath": null,
       "isJsonSchema": true,
       "metadata": {},
       "overflow": false,
       "plotOptions": {
        "customPlotOptions": {},
        "displayType": "table",
        "pivotAggregation": null,
        "pivotColumns": null,
        "xColumns": null,
        "yColumns": null
       },
       "removedWidgets": [],
       "schema": [
        {
         "metadata": "{}",
         "name": "CID",
         "type": "\"integer\""
        },
        {
         "metadata": "{}",
         "name": "FirstName",
         "type": "\"string\""
        },
        {
         "metadata": "{}",
         "name": "LastName",
         "type": "\"string\""
        },
        {
         "metadata": "{}",
         "name": "City",
         "type": "\"string\""
        },
        {
         "metadata": "{}",
         "name": "ContactNo",
         "type": "\"integer\""
        },
        {
         "metadata": "{}",
         "name": "isActive",
         "type": "\"string\""
        },
        {
         "metadata": "{}",
         "name": "StartDate",
         "type": "\"timestamp\""
        },
        {
         "metadata": "{}",
         "name": "Enddate",
         "type": "\"timestamp\""
        }
       ],
       "type": "table"
      }
     },
     "output_type": "display_data"
    }
   ],
   "source": [
    "%sql\n",
    "select * from DimData"
   ]
  },
  {
   "cell_type": "code",
   "execution_count": 0,
   "metadata": {
    "application/vnd.databricks.v1+cell": {
     "cellMetadata": {},
     "inputWidgets": {},
     "nuid": "e196ea61-f983-476f-b9cc-44fdd5f59f4a",
     "showTitle": false,
     "title": ""
    }
   },
   "outputs": [],
   "source": []
  }
 ],
 "metadata": {
  "application/vnd.databricks.v1+notebook": {
   "dashboards": [],
   "language": "python",
   "notebookMetadata": {
    "mostRecentlyExecutedCommandWithImplicitDF": {
     "commandId": 2990456493613715,
     "dataframes": [
      "_sqldf"
     ]
    },
    "pythonIndentUnit": 4
   },
   "notebookName": "SCD using PySpark",
   "widgets": {}
  }
 },
 "nbformat": 4,
 "nbformat_minor": 0
}
